{
 "cells": [
  {
   "cell_type": "code",
   "execution_count": null,
   "id": "played-convention",
   "metadata": {},
   "outputs": [],
   "source": [
    "import pickle\n",
    "\n",
    "import numpy as np\n",
    "import tensorflow as tf\n",
    "import gym\n",
    "\n",
    "from tf_reinforcement_testcases import models"
   ]
  },
  {
   "cell_type": "code",
   "execution_count": null,
   "id": "analyzed-struggle",
   "metadata": {},
   "outputs": [],
   "source": [
    "try:\n",
    "    with open('data/data.pickle', 'rb') as file:\n",
    "        init_data = pickle.load(file)\n",
    "except FileNotFoundError:\n",
    "    init_data = None"
   ]
  },
  {
   "cell_type": "code",
   "execution_count": null,
   "id": "worthy-anxiety",
   "metadata": {},
   "outputs": [],
   "source": [
    "env = gym.make('CartPole-v1')\n",
    "n_outputs = env.action_space.n\n",
    "input_shape = env.observation_space.shape"
   ]
  },
  {
   "cell_type": "code",
   "execution_count": null,
   "id": "pressing-movie",
   "metadata": {},
   "outputs": [],
   "source": [
    "model = models.get_mlp(input_shape, n_outputs)\n",
    "model.set_weights(init_data['weights'])"
   ]
  },
  {
   "cell_type": "code",
   "execution_count": null,
   "id": "intelligent-holly",
   "metadata": {},
   "outputs": [],
   "source": [
    "def predict(obs):\n",
    "    obs = tf.nest.map_structure(lambda x: tf.expand_dims(x, axis=0), obs)\n",
    "    Q_values = model(obs)\n",
    "    return np.argmax(Q_values[0])"
   ]
  },
  {
   "cell_type": "code",
   "execution_count": null,
   "id": "moving-roommate",
   "metadata": {},
   "outputs": [],
   "source": [
    "for i_episode in range(1):\n",
    "    observation = env.reset()\n",
    "    for t in range(500):\n",
    "        env.render()\n",
    "        # print(observation)\n",
    "        # action = env.action_space.sample()\n",
    "        action = predict(observation)\n",
    "        observation, reward, done, info = env.step(action)\n",
    "        if done:\n",
    "            print(\"Episode finished after {} timesteps\".format(t+1))\n",
    "            break"
   ]
  },
  {
   "cell_type": "code",
   "execution_count": null,
   "id": "unusual-likelihood",
   "metadata": {},
   "outputs": [],
   "source": [
    "env.close()"
   ]
  },
  {
   "cell_type": "code",
   "execution_count": null,
   "id": "nasty-korean",
   "metadata": {},
   "outputs": [],
   "source": []
  }
 ],
 "metadata": {
  "kernelspec": {
   "display_name": "Python 3",
   "language": "python",
   "name": "python3"
  },
  "language_info": {
   "codemirror_mode": {
    "name": "ipython",
    "version": 3
   },
   "file_extension": ".py",
   "mimetype": "text/x-python",
   "name": "python",
   "nbconvert_exporter": "python",
   "pygments_lexer": "ipython3",
   "version": "3.8.5"
  }
 },
 "nbformat": 4,
 "nbformat_minor": 5
}
