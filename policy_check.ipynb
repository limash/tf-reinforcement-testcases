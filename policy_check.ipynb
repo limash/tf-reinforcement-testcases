{
 "cells": [
  {
   "cell_type": "code",
   "execution_count": 1,
   "id": "played-convention",
   "metadata": {},
   "outputs": [],
   "source": [
    "import pickle\n",
    "import time\n",
    "\n",
    "import numpy as np\n",
    "import tensorflow as tf\n",
    "import gym\n",
    "import gym.wrappers as gw\n",
    "\n",
    "from tf_reinforcement_testcases import models"
   ]
  },
  {
   "cell_type": "code",
   "execution_count": 2,
   "id": "charming-avatar",
   "metadata": {},
   "outputs": [],
   "source": [
    "physical_devices = tf.config.experimental.list_physical_devices('GPU')\n",
    "if len(physical_devices) > 0:\n",
    "    config = tf.config.experimental.set_memory_growth(physical_devices[0], True)"
   ]
  },
  {
   "cell_type": "code",
   "execution_count": 3,
   "id": "analyzed-struggle",
   "metadata": {},
   "outputs": [],
   "source": [
    "try:\n",
    "    with open('data/data.pickle', 'rb') as file:\n",
    "        init_data = pickle.load(file)\n",
    "except FileNotFoundError:\n",
    "    init_data = None"
   ]
  },
  {
   "cell_type": "code",
   "execution_count": 4,
   "id": "numeric-eligibility",
   "metadata": {},
   "outputs": [],
   "source": [
    "cart_pole = 'CartPole-v1'\n",
    "breakout = 'BreakoutNoFrameskip-v4'\n",
    "env_name = breakout"
   ]
  },
  {
   "cell_type": "code",
   "execution_count": 5,
   "id": "worthy-anxiety",
   "metadata": {},
   "outputs": [],
   "source": [
    "env = gym.make(env_name)\n",
    "if env_name == 'BreakoutNoFrameskip-v4':\n",
    "    env = gw.FrameStack(\n",
    "        gw.TimeLimit(\n",
    "            gw.AtariPreprocessing(env),\n",
    "            max_episode_steps=10000),\n",
    "        4)\n",
    "n_outputs = env.action_space.n\n",
    "input_shape = env.observation_space.shape"
   ]
  },
  {
   "cell_type": "code",
   "execution_count": 6,
   "id": "pressing-movie",
   "metadata": {},
   "outputs": [],
   "source": [
    "if env_name == 'BreakoutNoFrameskip-v4':\n",
    "    model = models.get_conv_channels_first(input_shape, n_outputs)\n",
    "else:\n",
    "    model = models.get_mlp(input_shape, n_outputs)\n",
    "model.set_weights(init_data['weights'])"
   ]
  },
  {
   "cell_type": "code",
   "execution_count": 7,
   "id": "intelligent-holly",
   "metadata": {},
   "outputs": [],
   "source": [
    "def predict(obs):\n",
    "    # obs = tf.nest.map_structure(lambda x: tf.convert_to_tensor(x, dtype=tf.float32), obs)\n",
    "    obs = tf.nest.map_structure(lambda x: tf.expand_dims(x, axis=0), obs)\n",
    "    Q_values = model(obs)\n",
    "    return np.argmax(Q_values[0])"
   ]
  },
  {
   "cell_type": "code",
   "execution_count": 8,
   "id": "moving-roommate",
   "metadata": {
    "scrolled": true
   },
   "outputs": [
    {
     "name": "stdout",
     "output_type": "stream",
     "text": [
      "Episode finished after 757 timesteps; Total reward: 36.0\n"
     ]
    }
   ],
   "source": [
    "for i_episode in range(1):\n",
    "    rewards = 0\n",
    "    observation = env.reset()\n",
    "    for t in range(10000):\n",
    "        time.sleep(0.01)\n",
    "        env.render()\n",
    "        # print(observation)\n",
    "        # action = env.action_space.sample()\n",
    "        action = predict(observation)\n",
    "        observation, reward, done, info = env.step(action)\n",
    "        rewards += reward\n",
    "        if done:\n",
    "            print(f\"Episode finished after {t+1} timesteps; Total reward: {rewards}\")\n",
    "            break"
   ]
  },
  {
   "cell_type": "code",
   "execution_count": 9,
   "id": "unusual-likelihood",
   "metadata": {},
   "outputs": [],
   "source": [
    "env.close()"
   ]
  },
  {
   "cell_type": "code",
   "execution_count": null,
   "id": "sufficient-madonna",
   "metadata": {},
   "outputs": [],
   "source": []
  }
 ],
 "metadata": {
  "kernelspec": {
   "display_name": "Python 3",
   "language": "python",
   "name": "python3"
  },
  "language_info": {
   "codemirror_mode": {
    "name": "ipython",
    "version": 3
   },
   "file_extension": ".py",
   "mimetype": "text/x-python",
   "name": "python",
   "nbconvert_exporter": "python",
   "pygments_lexer": "ipython3",
   "version": "3.8.5"
  }
 },
 "nbformat": 4,
 "nbformat_minor": 5
}
