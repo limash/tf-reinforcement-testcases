{
 "cells": [
  {
   "cell_type": "code",
   "execution_count": null,
   "id": "western-checkout",
   "metadata": {},
   "outputs": [],
   "source": [
    "import pickle\n",
    "\n",
    "import ray\n",
    "\n",
    "import main"
   ]
  },
  {
   "cell_type": "code",
   "execution_count": null,
   "id": "secret-satellite",
   "metadata": {},
   "outputs": [],
   "source": [
    "try:\n",
    "    with open('data/data.pickle', 'rb') as file:\n",
    "        init_data = pickle.load(file)\n",
    "except FileNotFoundError:\n",
    "    init_data = None"
   ]
  },
  {
   "cell_type": "code",
   "execution_count": null,
   "id": "continuing-standard",
   "metadata": {},
   "outputs": [],
   "source": [
    "env_name = 'BreakoutNoFrameskip-v4'\n",
    "agent_name = 'double'\n",
    "data = init_data"
   ]
  },
  {
   "cell_type": "code",
   "execution_count": null,
   "id": "given-mineral",
   "metadata": {},
   "outputs": [],
   "source": [
    "parallel_calls = 4\n",
    "ray.init(num_cpus=parallel_calls, num_gpus=1)\n",
    "\n",
    "batch_size = 64\n",
    "n_steps = 2\n",
    "init_sample_eps = 0.1  # 1 means random sampling\n",
    "\n",
    "buffer = main.BUFFERS[agent_name](min_size=batch_size)\n",
    "agent_object = main.AGENTS[agent_name]\n",
    "agent_object = ray.remote(num_gpus=1/parallel_calls)(agent_object)\n",
    "agents = [agent_object.remote(env_name,\n",
    "                              buffer.table_name, buffer.server_port, buffer.min_size,\n",
    "                              n_steps, data, make_sparse=False,\n",
    "                              init_epsilon=init_sample_eps) for _ in range(parallel_calls)]"
   ]
  },
  {
   "cell_type": "code",
   "execution_count": null,
   "id": "blind-fiber",
   "metadata": {},
   "outputs": [],
   "source": [
    "eps = 0.1\n",
    "futures = [agent.train_collect.remote(iterations_number=1000, epsilon=eps) for agent in agents]\n",
    "outputs = ray.get(futures)"
   ]
  },
  {
   "cell_type": "code",
   "execution_count": null,
   "id": "eight-chain",
   "metadata": {},
   "outputs": [],
   "source": []
  }
 ],
 "metadata": {
  "kernelspec": {
   "display_name": "Python 3",
   "language": "python",
   "name": "python3"
  },
  "language_info": {
   "codemirror_mode": {
    "name": "ipython",
    "version": 3
   },
   "file_extension": ".py",
   "mimetype": "text/x-python",
   "name": "python",
   "nbconvert_exporter": "python",
   "pygments_lexer": "ipython3",
   "version": "3.6.9"
  }
 },
 "nbformat": 4,
 "nbformat_minor": 5
}
