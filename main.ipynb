{
 "cells": [
  {
   "cell_type": "code",
   "execution_count": null,
   "metadata": {},
   "outputs": [],
   "source": [
    "from collections import OrderedDict\n",
    "import numpy as np\n",
    "import tensorflow as tf\n",
    "\n",
    "import gym\n",
    "from kaggle_environments import make\n",
    "import kaggle_environments.envs.halite.helpers as hh\n",
    "from tf_reinforcement_testcases import deep_q_learning, misc\n",
    "from gym_halite.envs.halite_env import get_scalar_features, get_feature_maps"
   ]
  },
  {
   "cell_type": "code",
   "execution_count": null,
   "metadata": {},
   "outputs": [],
   "source": [
    "halite = \"gym_halite:halite-v0\"\n",
    "cart_pole = \"CartPole-v1\"\n",
    "env_name = halite\n",
    "agent = deep_q_learning.PriorityDoubleDuelingDQNAgent(env_name)"
   ]
  },
  {
   "cell_type": "code",
   "execution_count": null,
   "metadata": {},
   "outputs": [],
   "source": [
    "model = agent.train(iterations_number=20000)"
   ]
  },
  {
   "cell_type": "code",
   "execution_count": null,
   "metadata": {},
   "outputs": [],
   "source": [
    "board_size = 5\n",
    "starting_halite = 5000\n",
    "env = make(\"halite\",\n",
    "           configuration={\"size\": board_size,\n",
    "                          \"startingHalite\": starting_halite},\n",
    "           debug=True)\n",
    "obs = env.reset()\n",
    "trainer = env.train([None])\n",
    "obs = trainer.reset()\n",
    "board = hh.Board(obs, env.configuration)"
   ]
  },
  {
   "cell_type": "code",
   "execution_count": null,
   "metadata": {
    "scrolled": true
   },
   "outputs": [],
   "source": [
    "skalar_features = get_scalar_features(board)\n",
    "skalar_features = skalar_features[np.newaxis, ...]\n",
    "skalar_features = tf.convert_to_tensor(skalar_features, dtype=tf.float32)\n",
    "feature_maps = get_feature_maps(board)\n",
    "feature_maps = feature_maps[np.newaxis, ...]\n",
    "feature_maps = tf.convert_to_tensor(feature_maps, dtype=tf.float32)\n",
    "obs = OrderedDict({'feature_maps': feature_maps, 'scalar_features': skalar_features})\n",
    "Q_values = model(obs)\n",
    "print(Q_values)"
   ]
  },
  {
   "cell_type": "code",
   "execution_count": null,
   "metadata": {},
   "outputs": [],
   "source": [
    "if env_name == cart_pole:\n",
    "    env = gym.make(\"CartPole-v1\")\n",
    "    observation = env.reset()\n",
    "    for _ in range(1000):\n",
    "        env.render()\n",
    "        Q_values = model(observation[np.newaxis, :])\n",
    "        observation, reward, done, info = env.step(np.argmax(Q_values.numpy()))\n",
    "\n",
    "        if done:\n",
    "            observation = env.reset()\n",
    "    env.close()"
   ]
  },
  {
   "cell_type": "code",
   "execution_count": null,
   "metadata": {},
   "outputs": [],
   "source": [
    "if env_name == halite:\n",
    "    halite_agent = misc.get_halite_agent(model)\n",
    "    # these are the settings used for a halite v0.1\n",
    "    board_size = 5\n",
    "    starting_halite = 5000\n",
    "\n",
    "    env = make(\"halite\",\n",
    "               configuration={\"size\": board_size,\n",
    "                              \"startingHalite\": starting_halite},\n",
    "               debug=True)\n",
    "    env.run([halite_agent])\n",
    "    env.render(mode=\"ipython\", width=800, height=600)"
   ]
  },
  {
   "cell_type": "code",
   "execution_count": null,
   "metadata": {},
   "outputs": [],
   "source": []
  }
 ],
 "metadata": {
  "kernelspec": {
   "display_name": "Python 3",
   "language": "python",
   "name": "python3"
  },
  "language_info": {
   "codemirror_mode": {
    "name": "ipython",
    "version": 3
   },
   "file_extension": ".py",
   "mimetype": "text/x-python",
   "name": "python",
   "nbconvert_exporter": "python",
   "pygments_lexer": "ipython3",
   "version": "3.8.5"
  }
 },
 "nbformat": 4,
 "nbformat_minor": 4
}
